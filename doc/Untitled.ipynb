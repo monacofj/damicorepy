{
 "cells": [
  {
   "cell_type": "code",
   "execution_count": 9,
   "id": "4d630d64",
   "metadata": {},
   "outputs": [],
   "source": [
    "num_pairs = 10"
   ]
  },
  {
   "cell_type": "code",
   "execution_count": 10,
   "id": "91a76012",
   "metadata": {},
   "outputs": [],
   "source": [
    "v = range(num_pairs)"
   ]
  },
  {
   "cell_type": "code",
   "execution_count": 11,
   "id": "3e27b3cf",
   "metadata": {},
   "outputs": [
    {
     "data": {
      "text/plain": [
       "range(0, 10)"
      ]
     },
     "execution_count": 11,
     "metadata": {},
     "output_type": "execute_result"
    }
   ],
   "source": [
    "v"
   ]
  },
  {
   "cell_type": "code",
   "execution_count": 12,
   "id": "590328c7",
   "metadata": {},
   "outputs": [],
   "source": [
    "indices = v[0:2]"
   ]
  },
  {
   "cell_type": "code",
   "execution_count": 13,
   "id": "9d8820b2",
   "metadata": {},
   "outputs": [
    {
     "data": {
      "text/plain": [
       "range(0, 2)"
      ]
     },
     "execution_count": 13,
     "metadata": {},
     "output_type": "execute_result"
    }
   ],
   "source": [
    "indices"
   ]
  },
  {
   "cell_type": "code",
   "execution_count": 15,
   "id": "f82b7b7a",
   "metadata": {},
   "outputs": [
    {
     "name": "stdout",
     "output_type": "stream",
     "text": [
      "0\n",
      "1\n"
     ]
    }
   ],
   "source": [
    "for x in indices:\n",
    "    print(x)"
   ]
  },
  {
   "cell_type": "code",
   "execution_count": 16,
   "id": "7a4dcc1c",
   "metadata": {},
   "outputs": [],
   "source": [
    "start, stop = 0, 10"
   ]
  },
  {
   "cell_type": "code",
   "execution_count": 17,
   "id": "26c186a9",
   "metadata": {},
   "outputs": [],
   "source": [
    "indices = range(start, stop)"
   ]
  },
  {
   "cell_type": "code",
   "execution_count": 18,
   "id": "3871b04c",
   "metadata": {},
   "outputs": [
    {
     "data": {
      "text/plain": [
       "range(0, 10)"
      ]
     },
     "execution_count": 18,
     "metadata": {},
     "output_type": "execute_result"
    }
   ],
   "source": [
    "indices"
   ]
  },
  {
   "cell_type": "code",
   "execution_count": null,
   "id": "ac3fd853",
   "metadata": {},
   "outputs": [],
   "source": []
  },
  {
   "cell_type": "code",
   "execution_count": 19,
   "id": "95370cae",
   "metadata": {},
   "outputs": [
    {
     "data": {
      "text/plain": [
       "[0, 1, 2, 3, 4, 5, 6, 7, 8, 9]"
      ]
     },
     "execution_count": 19,
     "metadata": {},
     "output_type": "execute_result"
    }
   ],
   "source": [
    "list(indices)"
   ]
  },
  {
   "cell_type": "code",
   "execution_count": null,
   "id": "bca1c16a",
   "metadata": {},
   "outputs": [],
   "source": []
  }
 ],
 "metadata": {
  "kernelspec": {
   "display_name": "Python 3",
   "language": "python",
   "name": "python3"
  },
  "language_info": {
   "codemirror_mode": {
    "name": "ipython",
    "version": 3
   },
   "file_extension": ".py",
   "mimetype": "text/x-python",
   "name": "python",
   "nbconvert_exporter": "python",
   "pygments_lexer": "ipython3",
   "version": "3.8.8"
  }
 },
 "nbformat": 4,
 "nbformat_minor": 5
}
