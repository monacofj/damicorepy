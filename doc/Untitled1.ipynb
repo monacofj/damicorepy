{
 "cells": [
  {
   "cell_type": "code",
   "execution_count": null,
   "id": "ad5834aa",
   "metadata": {},
   "outputs": [],
   "source": []
  },
  {
   "cell_type": "code",
   "execution_count": 1,
   "id": "f3c5c4bb",
   "metadata": {},
   "outputs": [
    {
     "name": "stdout",
     "output_type": "stream",
     "text": [
      "Collecting git+https://gitlab.uspdigital.usp.br/acbd/damicore-python3.git\n",
      "  Cloning https://gitlab.uspdigital.usp.br/acbd/damicore-python3.git to /private/var/folders/8x/vh9wvwrn6h967l0py1sytxpw0000gn/T/pip-req-build-0ur9psj5\n",
      "  Running command git clone -q https://gitlab.uspdigital.usp.br/acbd/damicore-python3.git /private/var/folders/8x/vh9wvwrn6h967l0py1sytxpw0000gn/T/pip-req-build-0ur9psj5\n",
      "Building wheels for collected packages: damicore\n",
      "  Building wheel for damicore (setup.py) ... \u001b[?25ldone\n",
      "\u001b[?25h  Created wheel for damicore: filename=damicore-0.1.0-py3-none-any.whl size=49545 sha256=c014877a91ec2616c968546570f49d37b93b0063815582d03f9aafd47cac28ce\n",
      "  Stored in directory: /private/var/folders/8x/vh9wvwrn6h967l0py1sytxpw0000gn/T/pip-ephem-wheel-cache-efmh91ei/wheels/76/ce/95/0a7137d133d68c93a7b7a4cf25a4af3f1e6f92d0f98518768b\n",
      "Successfully built damicore\n",
      "Installing collected packages: damicore\n",
      "Successfully installed damicore-0.1.0\n"
     ]
    }
   ],
   "source": [
    "!pip install git+https://gitlab.uspdigital.usp.br/acbd/damicore-python3.git"
   ]
  },
  {
   "cell_type": "code",
   "execution_count": 2,
   "id": "12b3cf71",
   "metadata": {},
   "outputs": [
    {
     "name": "stdout",
     "output_type": "stream",
     "text": [
      "Collecting python-igraph\n",
      "  Using cached python_igraph-0.9.6-cp38-cp38-macosx_10_9_x86_64.whl (2.0 MB)\n",
      "Requirement already satisfied: texttable>=1.6.2 in /opt/anaconda3/lib/python3.8/site-packages (from python-igraph) (1.6.4)\n",
      "Installing collected packages: python-igraph\n",
      "Successfully installed python-igraph-0.9.6\n"
     ]
    }
   ],
   "source": [
    "!pip install python-igraph"
   ]
  },
  {
   "cell_type": "code",
   "execution_count": 3,
   "id": "54f15436",
   "metadata": {},
   "outputs": [
    {
     "name": "stdout",
     "output_type": "stream",
     "text": [
      "damicore                           0.1.0             /opt/anaconda3/lib/python3.8/site-packages                        pip\r\n"
     ]
    }
   ],
   "source": [
    "!pip list -v | grep damicore"
   ]
  },
  {
   "cell_type": "code",
   "execution_count": 4,
   "id": "d0b8542e",
   "metadata": {},
   "outputs": [
    {
     "name": "stdout",
     "output_type": "stream",
     "text": [
      "/opt/anaconda3/lib/python3.8/site-packages/damicore\n"
     ]
    }
   ],
   "source": [
    "cd /opt/anaconda3/lib/python3.8/site-packages/damicore/"
   ]
  },
  {
   "cell_type": "code",
   "execution_count": 5,
   "id": "088a690f",
   "metadata": {},
   "outputs": [],
   "source": [
    "#import os,sys\n",
    "##sys.path.append(os.getcwd())\n",
    "#sys.path.append('/opt/anaconda3/lib/python3.8/site-packages/damicore/')"
   ]
  },
  {
   "cell_type": "code",
   "execution_count": 6,
   "id": "086300c6",
   "metadata": {},
   "outputs": [
    {
     "ename": "SyntaxError",
     "evalue": "invalid syntax (ncd2.py, line 118)",
     "output_type": "error",
     "traceback": [
      "Traceback \u001b[0;36m(most recent call last)\u001b[0m:\n",
      "  File \u001b[1;32m\"/opt/anaconda3/lib/python3.8/site-packages/IPython/core/interactiveshell.py\"\u001b[0m, line \u001b[1;32m3437\u001b[0m, in \u001b[1;35mrun_code\u001b[0m\n    exec(code_obj, self.user_global_ns, self.user_ns)\n",
      "  File \u001b[1;32m\"<ipython-input-6-d3c91462aa40>\"\u001b[0m, line \u001b[1;32m1\u001b[0m, in \u001b[1;35m<module>\u001b[0m\n    import damicore.damicore as dm\n",
      "\u001b[0;36m  File \u001b[0;32m\"/opt/anaconda3/lib/python3.8/site-packages/damicore/damicore.py\"\u001b[0;36m, line \u001b[0;32m15\u001b[0;36m, in \u001b[0;35m<module>\u001b[0;36m\u001b[0m\n\u001b[0;31m    import ncd2 as ncd\u001b[0m\n",
      "\u001b[0;36m  File \u001b[0;32m\"/Users/acbd/Applications/damicore-python3/doc/ncd2.py\"\u001b[0;36m, line \u001b[0;32m118\u001b[0m\n\u001b[0;31m    def pairs(seq1, seq2, is_upper, seed=None, start=0, stop=0)#old versioon -- stop=None):\u001b[0m\n\u001b[0m                                                               ^\u001b[0m\n\u001b[0;31mSyntaxError\u001b[0m\u001b[0;31m:\u001b[0m invalid syntax\n"
     ]
    }
   ],
   "source": [
    "import damicore.damicore as dm"
   ]
  },
  {
   "cell_type": "code",
   "execution_count": null,
   "id": "6f7fd195",
   "metadata": {},
   "outputs": [],
   "source": []
  },
  {
   "cell_type": "code",
   "execution_count": null,
   "id": "c06c2b43",
   "metadata": {},
   "outputs": [],
   "source": [
    "dm.main()"
   ]
  },
  {
   "cell_type": "code",
   "execution_count": null,
   "id": "0c7f8e04",
   "metadata": {},
   "outputs": [],
   "source": []
  }
 ],
 "metadata": {
  "kernelspec": {
   "display_name": "Python 3",
   "language": "python",
   "name": "python3"
  },
  "language_info": {
   "codemirror_mode": {
    "name": "ipython",
    "version": 3
   },
   "file_extension": ".py",
   "mimetype": "text/x-python",
   "name": "python",
   "nbconvert_exporter": "python",
   "pygments_lexer": "ipython3",
   "version": "3.8.8"
  }
 },
 "nbformat": 4,
 "nbformat_minor": 5
}
