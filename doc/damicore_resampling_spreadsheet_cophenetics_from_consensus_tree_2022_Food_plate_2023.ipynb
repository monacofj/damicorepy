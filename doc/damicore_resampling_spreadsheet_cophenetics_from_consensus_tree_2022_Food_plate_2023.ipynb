{
  "nbformat": 4,
  "nbformat_minor": 0,
  "metadata": {
    "colab": {
      "provenance": [],
      "collapsed_sections": [
        "0kVTWMtX63zy",
        "LCmnGHNh63zz"
      ]
    },
    "kernelspec": {
      "display_name": "Python 3",
      "name": "python3"
    },
    "language_info": {
      "name": "python"
    }
  },
  "cells": [
    {
      "cell_type": "markdown",
      "metadata": {
        "id": "gITWn238RcL3"
      },
      "source": [
        "# packages and configurations"
      ]
    },
    {
      "cell_type": "code",
      "metadata": {
        "colab": {
          "base_uri": "https://localhost:8080/"
        },
        "id": "nR0rNJsHVnyG",
        "outputId": "bb1cdd76-7e4e-4f61-a245-9ffe82f0bf31"
      },
      "source": [
        "from google.colab import drive\n",
        "drive.mount('/gdrive/')\n",
        "from google.colab import files\n",
        "\n",
        "import os"
      ],
      "execution_count": null,
      "outputs": [
        {
          "output_type": "stream",
          "name": "stdout",
          "text": [
            "Mounted at /gdrive/\n"
          ]
        }
      ]
    },
    {
      "cell_type": "code",
      "metadata": {
        "colab": {
          "base_uri": "https://localhost:8080/",
          "height": 17
        },
        "id": "COci0aL4f3yn",
        "outputId": "f6afc850-3d23-44ec-eef0-411c8bc890a4"
      },
      "source": [
        "files.view('/gdrive/')\n",
        "\n",
        "path = \"/content/\"\n",
        "path_inputs = '/gdrive/MyDrive/2023/1o.sem/Food-plate/segments'"
      ],
      "execution_count": null,
      "outputs": [
        {
          "output_type": "display_data",
          "data": {
            "text/plain": [
              "<IPython.core.display.Javascript object>"
            ],
            "application/javascript": [
              "\n",
              "      ((filepath) => {{\n",
              "        if (!google.colab.kernel.accessAllowed) {{\n",
              "          return;\n",
              "        }}\n",
              "        google.colab.files.view(filepath);\n",
              "      }})(\"/gdrive\")"
            ]
          },
          "metadata": {}
        }
      ]
    },
    {
      "cell_type": "code",
      "source": [
        "from distutils.dir_util import mkpath"
      ],
      "metadata": {
        "id": "32yfup3jgWg-"
      },
      "execution_count": null,
      "outputs": []
    },
    {
      "cell_type": "code",
      "metadata": {
        "id": "zvbHtwlyAwTx",
        "colab": {
          "base_uri": "https://localhost:8080/"
        },
        "outputId": "8338cadc-a304-4ee4-84f3-ff6fd46a72f2"
      },
      "source": [
        "os.listdir(path)"
      ],
      "execution_count": null,
      "outputs": [
        {
          "output_type": "execute_result",
          "data": {
            "text/plain": [
              "['.config', 'sample_data']"
            ]
          },
          "metadata": {},
          "execution_count": 4
        }
      ]
    },
    {
      "cell_type": "code",
      "metadata": {
        "id": "Gt9V_QLbnATX",
        "colab": {
          "base_uri": "https://localhost:8080/"
        },
        "outputId": "26a6bf7b-cb93-4708-a314-d97e3e31ae30"
      },
      "source": [
        "mkpath(\"/content/results/\")\n",
        "results = \"/content/results/\"\n",
        "mkpath(\"/content/segments/\")"
      ],
      "execution_count": null,
      "outputs": [
        {
          "output_type": "execute_result",
          "data": {
            "text/plain": [
              "['/content/segments']"
            ]
          },
          "metadata": {},
          "execution_count": 5
        }
      ]
    },
    {
      "cell_type": "code",
      "source": [
        "import subprocess"
      ],
      "metadata": {
        "id": "-b7G0aoBia8J"
      },
      "execution_count": null,
      "outputs": []
    },
    {
      "cell_type": "markdown",
      "metadata": {
        "id": "xfjNStzpf3Vb"
      },
      "source": [
        "# Running DAMICORE"
      ]
    },
    {
      "cell_type": "markdown",
      "metadata": {
        "id": "0kVTWMtX63zy"
      },
      "source": [
        "## Installing damicore and the correct igraph related packages"
      ]
    },
    {
      "cell_type": "code",
      "metadata": {
        "colab": {
          "base_uri": "https://localhost:8080/"
        },
        "id": "I3NHwb7a63zy",
        "outputId": "6fa46322-0ef0-4e1e-b6a9-b940f648e03b"
      },
      "source": [
        "!pip install git+https://gitlab.uspdigital.usp.br/acbd/damicore-python3.git"
      ],
      "execution_count": null,
      "outputs": [
        {
          "output_type": "stream",
          "name": "stdout",
          "text": [
            "Looking in indexes: https://pypi.org/simple, https://us-python.pkg.dev/colab-wheels/public/simple/\n",
            "Collecting git+https://gitlab.uspdigital.usp.br/acbd/damicore-python3.git\n",
            "  Cloning https://gitlab.uspdigital.usp.br/acbd/damicore-python3.git to /tmp/pip-req-build-nvtibjpj\n",
            "  Running command git clone --filter=blob:none --quiet https://gitlab.uspdigital.usp.br/acbd/damicore-python3.git /tmp/pip-req-build-nvtibjpj\n",
            "  Resolved https://gitlab.uspdigital.usp.br/acbd/damicore-python3.git to commit 11a951c700c71f32b7ce9435890a4055f210b0e6\n",
            "  Preparing metadata (setup.py) ... \u001b[?25l\u001b[?25hdone\n",
            "Building wheels for collected packages: damicore\n",
            "  Building wheel for damicore (setup.py) ... \u001b[?25l\u001b[?25hdone\n",
            "  Created wheel for damicore: filename=damicore-0.1.0-py3-none-any.whl size=49760 sha256=16a130bf1afcca191a215bbe58b0779e167c9d38a466bc151d26e5e3257dcc6a\n",
            "  Stored in directory: /tmp/pip-ephem-wheel-cache-paqlyx2d/wheels/76/ce/95/0a7137d133d68c93a7b7a4cf25a4af3f1e6f92d0f98518768b\n",
            "Successfully built damicore\n",
            "Installing collected packages: damicore\n",
            "Successfully installed damicore-0.1.0\n"
          ]
        }
      ]
    },
    {
      "cell_type": "code",
      "metadata": {
        "colab": {
          "base_uri": "https://localhost:8080/"
        },
        "id": "HHxcYcas63zz",
        "outputId": "137fad19-eff3-4308-9dff-fa8fc63a421b"
      },
      "source": [
        "pip install python-igraph"
      ],
      "execution_count": null,
      "outputs": [
        {
          "output_type": "stream",
          "name": "stdout",
          "text": [
            "Looking in indexes: https://pypi.org/simple, https://us-python.pkg.dev/colab-wheels/public/simple/\n",
            "Collecting python-igraph\n",
            "  Downloading python-igraph-0.10.4.tar.gz (9.5 kB)\n",
            "  Preparing metadata (setup.py) ... \u001b[?25l\u001b[?25hdone\n",
            "Collecting igraph==0.10.4\n",
            "  Downloading igraph-0.10.4-cp38-cp38-manylinux_2_17_x86_64.manylinux2014_x86_64.whl (3.3 MB)\n",
            "\u001b[2K     \u001b[90m━━━━━━━━━━━━━━━━━━━━━━━━━━━━━━━━━━━━━━━━\u001b[0m \u001b[32m3.3/3.3 MB\u001b[0m \u001b[31m31.0 MB/s\u001b[0m eta \u001b[36m0:00:00\u001b[0m\n",
            "\u001b[?25hCollecting texttable>=1.6.2\n",
            "  Downloading texttable-1.6.7-py2.py3-none-any.whl (10 kB)\n",
            "Building wheels for collected packages: python-igraph\n",
            "  Building wheel for python-igraph (setup.py) ... \u001b[?25l\u001b[?25hdone\n",
            "  Created wheel for python-igraph: filename=python_igraph-0.10.4-py3-none-any.whl size=9076 sha256=00e37725bea37e394b50f5ba3984608975d1985a68f10822a88fd86bfb7d0ef0\n",
            "  Stored in directory: /root/.cache/pip/wheels/04/eb/68/b70fc5f1163b5a3e9e6aaaea5fb57a8ff4c0c4988505a4fe0f\n",
            "Successfully built python-igraph\n",
            "Installing collected packages: texttable, igraph, python-igraph\n",
            "Successfully installed igraph-0.10.4 python-igraph-0.10.4 texttable-1.6.7\n"
          ]
        }
      ]
    },
    {
      "cell_type": "code",
      "metadata": {
        "id": "be2S2zbdM_G4",
        "colab": {
          "base_uri": "https://localhost:8080/"
        },
        "outputId": "19142c80-0391-4cad-9abf-683a43155ecc"
      },
      "source": [
        "pip install cairocffi #to run igraph drawing utilities "
      ],
      "execution_count": null,
      "outputs": [
        {
          "output_type": "stream",
          "name": "stdout",
          "text": [
            "Looking in indexes: https://pypi.org/simple, https://us-python.pkg.dev/colab-wheels/public/simple/\n",
            "Collecting cairocffi\n",
            "  Downloading cairocffi-1.4.0.tar.gz (69 kB)\n",
            "\u001b[?25l     \u001b[90m━━━━━━━━━━━━━━━━━━━━━━━━━━━━━━━━━━━━━━━━\u001b[0m \u001b[32m0.0/69.9 KB\u001b[0m \u001b[31m?\u001b[0m eta \u001b[36m-:--:--\u001b[0m\r\u001b[2K     \u001b[90m━━━━━━━━━━━━━━━━━━━━━━━━━━━━━━━━━━━━━━━━\u001b[0m \u001b[32m69.9/69.9 KB\u001b[0m \u001b[31m3.3 MB/s\u001b[0m eta \u001b[36m0:00:00\u001b[0m\n",
            "\u001b[?25h  Preparing metadata (setup.py) ... \u001b[?25l\u001b[?25hdone\n",
            "Requirement already satisfied: cffi>=1.1.0 in /usr/local/lib/python3.8/dist-packages (from cairocffi) (1.15.1)\n",
            "Requirement already satisfied: pycparser in /usr/local/lib/python3.8/dist-packages (from cffi>=1.1.0->cairocffi) (2.21)\n",
            "Building wheels for collected packages: cairocffi\n",
            "  Building wheel for cairocffi (setup.py) ... \u001b[?25l\u001b[?25hdone\n",
            "  Created wheel for cairocffi: filename=cairocffi-1.4.0-py3-none-any.whl size=88775 sha256=8b05897f043ae33161c00383ad38e07ba962192590a07a1d7f33e2fc8b96f500\n",
            "  Stored in directory: /root/.cache/pip/wheels/01/a9/c0/5c05f9dd73c21f9a7716690642823cdba55594d17a9bd69daf\n",
            "Successfully built cairocffi\n",
            "Installing collected packages: cairocffi\n",
            "Successfully installed cairocffi-1.4.0\n"
          ]
        }
      ]
    },
    {
      "cell_type": "code",
      "source": [
        "import cairocffi"
      ],
      "metadata": {
        "id": "rjgf10Dqrqni"
      },
      "execution_count": null,
      "outputs": []
    },
    {
      "cell_type": "markdown",
      "metadata": {
        "id": "gqXWwYRb87xm"
      },
      "source": [
        "# Phylogram analysis"
      ]
    },
    {
      "cell_type": "markdown",
      "metadata": {
        "id": "A_MDSA20-sGB"
      },
      "source": [
        "## Several possibly different trees \n",
        "- from resampled rows of a spreadsheet"
      ]
    },
    {
      "cell_type": "code",
      "metadata": {
        "colab": {
          "base_uri": "https://localhost:8080/",
          "height": 35
        },
        "id": "2P833ZSv63zz",
        "outputId": "e002194c-cfcf-4573-afe7-e530ca55e025"
      },
      "source": [
        "!pip list -v | grep damicore > whereisit\n",
        "f = open(\"whereisit\")\n",
        "strs = f.read()\n",
        "dmpath = strs.split()[2]\n",
        "dmpath"
      ],
      "execution_count": null,
      "outputs": [
        {
          "output_type": "execute_result",
          "data": {
            "text/plain": [
              "'/usr/local/lib/python3.8/dist-packages'"
            ],
            "application/vnd.google.colaboratory.intrinsic+json": {
              "type": "string"
            }
          },
          "metadata": {},
          "execution_count": 11
        }
      ]
    },
    {
      "cell_type": "code",
      "metadata": {
        "colab": {
          "base_uri": "https://localhost:8080/"
        },
        "id": "7GssWXSc63zz",
        "outputId": "b42b1da5-5c1a-428f-f61a-ae22bf694dab"
      },
      "source": [
        "cd $dmpath/damicore"
      ],
      "execution_count": null,
      "outputs": [
        {
          "output_type": "stream",
          "name": "stdout",
          "text": [
            "/usr/local/lib/python3.8/dist-packages/damicore\n"
          ]
        }
      ]
    },
    {
      "cell_type": "code",
      "source": [],
      "metadata": {
        "id": "jo90-QE9TQAN"
      },
      "execution_count": null,
      "outputs": []
    },
    {
      "cell_type": "code",
      "metadata": {
        "id": "pJY9AMauBYS1"
      },
      "source": [
        "import damicore as dm  #%pycat damicore.py ##dir(dm)"
      ],
      "execution_count": null,
      "outputs": []
    },
    {
      "cell_type": "markdown",
      "metadata": {
        "id": "LCmnGHNh63zz"
      },
      "source": [
        "Localizing damicore in your VM and changing directory to there\n"
      ]
    },
    {
      "cell_type": "code",
      "source": [
        "# dmpath = dm.__path__[0]"
      ],
      "metadata": {
        "id": "m2okBg0bKfrR"
      },
      "execution_count": null,
      "outputs": []
    },
    {
      "cell_type": "code",
      "source": [
        "# cd {dmpath}"
      ],
      "metadata": {
        "id": "p4BAazKqK1B7"
      },
      "execution_count": null,
      "outputs": []
    },
    {
      "cell_type": "code",
      "source": [
        "# pwd"
      ],
      "metadata": {
        "id": "IgYd3Il1Pvhc"
      },
      "execution_count": null,
      "outputs": []
    },
    {
      "cell_type": "code",
      "source": [
        "ls /usr/local/lib/python3.8/dist-packages/damicore/"
      ],
      "metadata": {
        "colab": {
          "base_uri": "https://localhost:8080/"
        },
        "id": "zD49kU3WRDdm",
        "outputId": "21c48691-cf0e-46c6-8fbe-a8ad03222620"
      },
      "execution_count": null,
      "outputs": [
        {
          "output_type": "stream",
          "name": "stdout",
          "text": [
            "classification.py  datasource.py  parallel.py      run_benchmarks.py\n",
            "clustering.py      __init__.py    partition.py     tree.py\n",
            "compressor.py      ncd2.py        progress_bar.py  tree_simplification.py\n",
            "damicore.py        ncd_base.py    \u001b[0m\u001b[01;34m__pycache__\u001b[0m/     _utils.py\n",
            "dataset.py         ncd.py         rabiscos.py\n"
          ]
        }
      ]
    },
    {
      "cell_type": "code",
      "source": [
        "# ls /usr/local/lib/python3.8/dist-packages/damicore/damicore.py"
      ],
      "metadata": {
        "id": "0e2DFinzQtwB"
      },
      "execution_count": null,
      "outputs": []
    },
    {
      "cell_type": "markdown",
      "source": [
        "acessing image files related to food-plate project"
      ],
      "metadata": {
        "id": "NBcAVHqqPlvI"
      }
    },
    {
      "cell_type": "code",
      "source": [
        "ls /gdrive/MyDrive/2023/1o.sem/Food-plate/segments/"
      ],
      "metadata": {
        "id": "jHh5NU34iEsZ",
        "colab": {
          "base_uri": "https://localhost:8080/"
        },
        "outputId": "823efbc9-d110-4864-a5d4-36591d7f2c72"
      },
      "execution_count": null,
      "outputs": [
        {
          "output_type": "stream",
          "name": "stdout",
          "text": [
            "img-1588028605755.png        img-1588606896455-seg-2.png\n",
            "img-1588028605755-seg-1.png  img-1588606896455-seg-3.png\n",
            "img-1588028605755-seg-2.png  img-1588731677819.png\n",
            "img-1588028605755-seg-3.png  img-1588731677819-seg-1.png\n",
            "img-1588028605755-seg-4.png  img-1588731677819-seg-2.png\n",
            "img-1588032161311.png        img-1588777802781.png\n",
            "img-1588032161311-seg-1.png  img-1588777802781-seg-1.png\n",
            "img-1588032352875.png        img-1588777802781-seg-2.png\n",
            "img-1588032352875-seg-1.png  img-1588777802781-seg-3.png\n",
            "img-1588032352875-seg-3.png  img-1589396534664.png\n",
            "img-1588089851066.png        img-1589396534664-seg-1.png\n",
            "img-1588089851066-seg-1.png  img-1589396534664-seg-2.png\n",
            "img-1588089851066-seg-2.png  img-1589416734940.png\n",
            "img-1588089851066-seg-3.png  img-1589416734940-seg-1.png\n",
            "img-1588093325556.png        img-1589416734940-seg-2.png\n",
            "img-1588093325556-seg-0.png  img-1589601213930.png\n",
            "img-1588093325556-seg-1.png  img-1589601213930-seg-2.png\n",
            "img-1588093325556-seg-2.png  img-1589601213930-seg-3.png\n",
            "img-1588098370125.png        img-1589601213930-seg-4.png\n",
            "img-1588098370125-seg-1.png  img-1592359576676.png\n",
            "img-1588098370125-seg-2.png  img-1592359576676-seg-1.png\n",
            "img-1588098370125-seg-3.png  img-1592359576676-seg-2.png\n",
            "img-1588178536917.png        img-1592359576676-seg-3.png\n",
            "img-1588178536917-seg-2.png  img-1592359576676-seg-4.png\n",
            "img-1588178536917-seg-3.png  img-1608393028078.png\n",
            "img-1588178536917-seg-4.png  img-1608393028078-seg-1.png\n",
            "img-1588209346698.png        img-1608393028078-seg-2.png\n",
            "img-1588209346698-seg-1.png  img-1608393028078-seg-3.png\n",
            "img-1588209346698-seg-2.png  img-1624141363904.png\n",
            "img-1588259180121.png        img-1624141363904-seg-2.png\n",
            "img-1588259180121-seg-1.png  img-1624141363904-seg-4.png\n",
            "img-1588259180121-seg-2.png  img-1624141363904-seg-5.png\n",
            "img-1588259180121-seg-3.png  img-1624141363904-seg-6.png\n",
            "img-1588347050376.png        img-1629132342784.png\n",
            "img-1588347050376-seg-1.png  img-1629132342784-seg-3.png\n",
            "img-1588606896455.png        img-1629132342784-seg-5.png\n",
            "img-1588606896455-seg-1.png\n"
          ]
        }
      ]
    },
    {
      "cell_type": "markdown",
      "source": [
        "you need to check if the subprocess finished before going on "
      ],
      "metadata": {
        "id": "Vyv4xIwL7Nit"
      }
    },
    {
      "cell_type": "code",
      "source": [
        "p = subprocess.Popen('cp /gdrive/MyDrive/2023/1o.sem/Food-plate/segments/img-* /content/',\n",
        "                     shell=True, #it enables globbing - as `import glob`, etc\n",
        "                     stdout=subprocess.PIPE, \n",
        "                     stderr=subprocess.PIPE)"
      ],
      "metadata": {
        "id": "leDeYhE41pRE"
      },
      "execution_count": null,
      "outputs": []
    },
    {
      "cell_type": "markdown",
      "source": [
        "you need to check if the subprocess finished before going on"
      ],
      "metadata": {
        "id": "YzJQ10GF7Vnp"
      }
    },
    {
      "cell_type": "code",
      "source": [
        "p = subprocess.Popen('ls /content/img-*.png',\n",
        "                     shell=True, #it enables globbing - as `import glob`, etc\n",
        "                     stdout=subprocess.PIPE, \n",
        "                     stderr=subprocess.PIPE)\n",
        "#out, err = p.communicate()\n",
        "\n",
        "alist = p.stdout.read().decode('UTF-8').replace(\" \",\"\").split(\"\\n\")\n",
        "pathname_list = [f for f in alist]\n",
        "img_list = [ f.split(\"/\")[-1] for f in pathname_list ]\n",
        "img_list.remove('') "
      ],
      "metadata": {
        "id": "p2qySx9JjQsz"
      },
      "execution_count": null,
      "outputs": []
    },
    {
      "cell_type": "code",
      "source": [
        "# ls /content/"
      ],
      "metadata": {
        "id": "XwvBn0dYi1y8"
      },
      "execution_count": null,
      "outputs": []
    },
    {
      "cell_type": "code",
      "source": [
        "img_list"
      ],
      "metadata": {
        "id": "FALYksc16sJY",
        "colab": {
          "base_uri": "https://localhost:8080/"
        },
        "outputId": "2095b87e-edd1-4165-b4f6-2908501abd0c"
      },
      "execution_count": null,
      "outputs": [
        {
          "output_type": "execute_result",
          "data": {
            "text/plain": [
              "['img-1588028605755.png',\n",
              " 'img-1588028605755-seg-2.png',\n",
              " 'img-1588028605755-seg-3.png',\n",
              " 'img-1588028605755-seg-4.png',\n",
              " 'img-1588032161311.png',\n",
              " 'img-1588032161311-seg-1.png',\n",
              " 'img-1588032352875.png',\n",
              " 'img-1588032352875-seg-1.png',\n",
              " 'img-1588032352875-seg-3.png',\n",
              " 'img-1588089851066.png',\n",
              " 'img-1588089851066-seg-1.png',\n",
              " 'img-1588089851066-seg-2.png',\n",
              " 'img-1588089851066-seg-3.png',\n",
              " 'img-1588093325556.png',\n",
              " 'img-1588093325556-seg-0.png',\n",
              " 'img-1588093325556-seg-1.png',\n",
              " 'img-1588093325556-seg-2.png',\n",
              " 'img-1588098370125.png',\n",
              " 'img-1588098370125-seg-1.png',\n",
              " 'img-1588098370125-seg-2.png',\n",
              " 'img-1588098370125-seg-3.png',\n",
              " 'img-1588178536917.png',\n",
              " 'img-1588178536917-seg-2.png',\n",
              " 'img-1588178536917-seg-3.png',\n",
              " 'img-1588178536917-seg-4.png',\n",
              " 'img-1588209346698.png',\n",
              " 'img-1588209346698-seg-1.png',\n",
              " 'img-1588209346698-seg-2.png',\n",
              " 'img-1588259180121.png',\n",
              " 'img-1588259180121-seg-1.png',\n",
              " 'img-1588259180121-seg-2.png',\n",
              " 'img-1588259180121-seg-3.png',\n",
              " 'img-1588347050376.png',\n",
              " 'img-1588347050376-seg-1.png',\n",
              " 'img-1588606896455.png',\n",
              " 'img-1588606896455-seg-1.png',\n",
              " 'img-1588606896455-seg-2.png',\n",
              " 'img-1588606896455-seg-3.png',\n",
              " 'img-1588731677819.png',\n",
              " 'img-1588731677819-seg-1.png',\n",
              " 'img-1588731677819-seg-2.png',\n",
              " 'img-1588777802781.png',\n",
              " 'img-1588777802781-seg-1.png',\n",
              " 'img-1588777802781-seg-2.png',\n",
              " 'img-1588777802781-seg-3.png',\n",
              " 'img-1589396534664.png',\n",
              " 'img-1589396534664-seg-1.png',\n",
              " 'img-1589396534664-seg-2.png',\n",
              " 'img-1589416734940.png',\n",
              " 'img-1589416734940-seg-1.png',\n",
              " 'img-1589416734940-seg-2.png',\n",
              " 'img-1589601213930.png',\n",
              " 'img-1589601213930-seg-2.png',\n",
              " 'img-1589601213930-seg-3.png',\n",
              " 'img-1589601213930-seg-4.png',\n",
              " 'img-1592359576676.png',\n",
              " 'img-1592359576676-seg-1.png',\n",
              " 'img-1592359576676-seg-2.png',\n",
              " 'img-1592359576676-seg-3.png',\n",
              " 'img-1592359576676-seg-4.png',\n",
              " 'img-1608393028078.png',\n",
              " 'img-1608393028078-seg-1.png',\n",
              " 'img-1608393028078-seg-2.png',\n",
              " 'img-1608393028078-seg-3.png',\n",
              " 'img-1624141363904.png',\n",
              " 'img-1624141363904-seg-2.png',\n",
              " 'img-1624141363904-seg-4.png',\n",
              " 'img-1624141363904-seg-5.png',\n",
              " 'img-1624141363904-seg-6.png',\n",
              " 'img-1629132342784.png',\n",
              " 'img-1629132342784-seg-3.png',\n",
              " 'img-1629132342784-seg-5.png']"
            ]
          },
          "metadata": {},
          "execution_count": 30
        }
      ]
    },
    {
      "cell_type": "markdown",
      "source": [
        "you need to check if the command line finished before going on"
      ],
      "metadata": {
        "id": "8bi7b_Mw7Z3K"
      }
    },
    {
      "cell_type": "code",
      "source": [
        "# shrink file names \n",
        "for f in img_list: \n",
        "  !mv /content/{f} /content/segments/{str(f[14:]).replace(\".png\",\"\")} "
      ],
      "metadata": {
        "id": "omqck2VajxAT"
      },
      "execution_count": null,
      "outputs": []
    },
    {
      "cell_type": "code",
      "source": [
        "# !ls /content/segments | wc -l"
      ],
      "metadata": {
        "id": "PUicpDEqN2ty"
      },
      "execution_count": null,
      "outputs": []
    },
    {
      "cell_type": "code",
      "source": [
        "# len(img_list)"
      ],
      "metadata": {
        "id": "Xt5LBO3_N-w5"
      },
      "execution_count": null,
      "outputs": []
    },
    {
      "cell_type": "code",
      "metadata": {
        "id": "99qG3iQoBYaQ",
        "colab": {
          "base_uri": "https://localhost:8080/"
        },
        "outputId": "60c360a3-168d-4108-d14c-fda076f56688"
      },
      "source": [
        "argv = [\"damicore.py\", \"--normalize-weights\", \"--compressor\", \"gzip\", \"--results-dir\", results, \"/content/segments/\"] \n",
        "args = argv[1:] \n",
        "#print(args) \n",
        "dm.main(args) "
      ],
      "execution_count": null,
      "outputs": [
        {
          "output_type": "stream",
          "name": "stderr",
          "text": [
            "Performing NCD distance matrix calculation...\n",
            "Compressing individual sources...\n",
            "Compressing source pairs...\n",
            "Simplifying graph...\n",
            "Clustering elements...\n"
          ]
        },
        {
          "output_type": "stream",
          "name": "stdout",
          "text": [
            "066,4\r\n",
            "066-seg-1,10\r\n",
            "066-seg-2,10\r\n",
            "066-seg-3,7\r\n",
            "078,5\r\n",
            "078-seg-1,9\r\n",
            "078-seg-2,5\r\n",
            "078-seg-3,5\r\n",
            "121,9\r\n",
            "121-seg-1,10\r\n",
            "121-seg-2,10\r\n",
            "121-seg-3,0\r\n",
            "125,3\r\n",
            "125-seg-1,1\r\n",
            "125-seg-2,1\r\n",
            "125-seg-3,6\r\n",
            "311,2\r\n",
            "311-seg-1,0\r\n",
            "376,9\r\n",
            "376-seg-1,8\r\n",
            "455,9\r\n",
            "455-seg-1,0\r\n",
            "455-seg-2,11\r\n",
            "455-seg-3,2\r\n",
            "556,4\r\n",
            "556-seg-0,1\r\n",
            "556-seg-1,7\r\n",
            "556-seg-2,11\r\n",
            "664,3\r\n",
            "664-seg-1,8\r\n",
            "664-seg-2,2\r\n",
            "676,5\r\n",
            "676-seg-1,8\r\n",
            "676-seg-2,3\r\n",
            "676-seg-3,3\r\n",
            "676-seg-4,7\r\n",
            "698,9\r\n",
            "698-seg-1,7\r\n",
            "698-seg-2,11\r\n",
            "755,9\r\n",
            "755-seg-1,1\r\n",
            "755-seg-2,11\r\n",
            "755-seg-3,10\r\n",
            "755-seg-4,11\r\n",
            "781,4\r\n",
            "781-seg-1,10\r\n",
            "781-seg-2,0\r\n",
            "781-seg-3,8\r\n",
            "784,3\r\n",
            "784-seg-3,5\r\n",
            "784-seg-5,5\r\n",
            "819,6\r\n",
            "819-seg-1,11\r\n",
            "819-seg-2,11\r\n",
            "875,8\r\n",
            "875-seg-1,11\r\n",
            "875-seg-3,0\r\n",
            "904,5\r\n",
            "904-seg-2,6\r\n",
            "904-seg-4,8\r\n",
            "904-seg-5,4\r\n",
            "904-seg-6,3\r\n",
            "917,4\r\n",
            "917-seg-2,2\r\n",
            "917-seg-3,0\r\n",
            "917-seg-4,1\r\n",
            "930,5\r\n",
            "930-seg-2,3\r\n",
            "930-seg-3,3\r\n",
            "930-seg-4,5\r\n",
            "940,8\r\n",
            "940-seg-1,6\r\n",
            "940-seg-2,11\r\n"
          ]
        }
      ]
    },
    {
      "cell_type": "code",
      "metadata": {
        "id": "tSjYxsygoLKQ",
        "colab": {
          "base_uri": "https://localhost:8080/",
          "height": 17
        },
        "outputId": "7b49ef3f-fe63-4860-abc3-0d97a5c9ec05"
      },
      "source": [
        "files.view(\"/content/\")"
      ],
      "execution_count": null,
      "outputs": [
        {
          "output_type": "display_data",
          "data": {
            "text/plain": [
              "<IPython.core.display.Javascript object>"
            ],
            "application/javascript": [
              "\n",
              "      ((filepath) => {{\n",
              "        if (!google.colab.kernel.accessAllowed) {{\n",
              "          return;\n",
              "        }}\n",
              "        google.colab.files.view(filepath);\n",
              "      }})(\"/content\")"
            ]
          },
          "metadata": {}
        }
      ]
    },
    {
      "cell_type": "markdown",
      "metadata": {
        "id": "Qw7-HN8TkV_i"
      },
      "source": [
        "## Visualizations that benefit tree interpretation"
      ]
    },
    {
      "cell_type": "markdown",
      "metadata": {
        "id": "GWslNDbmA-ap"
      },
      "source": [
        "From newick file to string"
      ]
    },
    {
      "cell_type": "code",
      "source": [
        "os.listdir(results)"
      ],
      "metadata": {
        "id": "8hYXguIk74yP",
        "colab": {
          "base_uri": "https://localhost:8080/"
        },
        "outputId": "625c0171-ff7b-4317-ebc5-3842119e4399"
      },
      "execution_count": null,
      "outputs": [
        {
          "output_type": "execute_result",
          "data": {
            "text/plain": [
              "['segments']"
            ]
          },
          "metadata": {},
          "execution_count": 36
        }
      ]
    },
    {
      "cell_type": "code",
      "metadata": {
        "id": "47bO6Yu42O9K"
      },
      "source": [
        "plain_newicks = []\n",
        "for tf in os.listdir(results):\n",
        "  tf = tf+'/001-tree.newick'\n",
        "  with open(os.path.join(results,tf), \"r+\") as f:\n",
        "    plain_newicks += [ f.read() ]"
      ],
      "execution_count": null,
      "outputs": []
    },
    {
      "cell_type": "code",
      "metadata": {
        "id": "cSUr4TeN2O9K"
      },
      "source": [
        "atree = plain_newicks[0]"
      ],
      "execution_count": null,
      "outputs": []
    },
    {
      "cell_type": "code",
      "metadata": {
        "id": "9DPBHGcKpWKc",
        "colab": {
          "base_uri": "https://localhost:8080/",
          "height": 160
        },
        "outputId": "fdce6619-7b88-4c10-d333-05347ec61916"
      },
      "source": [
        "atree"
      ],
      "execution_count": null,
      "outputs": [
        {
          "output_type": "execute_result",
          "data": {
            "text/plain": [
              "\"((((((((((((((('066':0.07086932492090561,'904-seg-5':0.07006999206098305):0.008124284640223474,('556':0.07593925694527841,'781':0.06301285824232152):0.0028772152249194813):0.015693242777174803,'917':0.07591716939619922):0.03638729371796474,(('125':0.08888660716314305,'676-seg-2':0.0889781984468049):0.021270792268542484,'664':0.09419474557076146):0.08803198612850999):0.05526473373981068,((('676-seg-3':0.17185710656886732,'930-seg-3':0.15034344248473763):0.0624306749522865,'930-seg-2':0.16717896345654726):0.07675156068774752,'904-seg-6':0.18763048963854329):0.12939756247320183):0.08596987982255114,((((('078':0.07701633820217282,'784-seg-3':0.05289867103938734):0.03978825290468452,'930':0.11253456577820281):0.06888765432231711,'784-seg-5':0.13770196362866818):0.15066778602149394,((('078-seg-2':0.10436358420845782,'904':0.13168453886335296):0.018849340213543793,'930-seg-4':0.13009364380357824):0.04776342331431008,('078-seg-3':0.12827730519045166,'676':0.1769296481391685):0.06470579773605165):0.07862892319065656):0.1552743827264719,'784':0.5469746113525027):0.1032280364222311):0.2894480593047878,(((((((('066-seg-3':0.06300282231331983,('556-seg-1':0.08847122066185042,'676-seg-4':0.07096483521039187):0.005783766195495699):0.0067260861995629,'698-seg-1':0.07960212627020478):0.029006916873726838,((((('078-seg-1':0.07904949867182878,('121':0.061191570656433124,'755':0.07639953381002174):0.007224686541371164):0.013445947256680638,('376':0.0732661078011508,'455':0.08330614759519296):0.0443126431845991):0.036515219460499994,'698':0.09978182300409358):0.07897410119768661,('376-seg-1':0.06563427933440519,(('664-seg-1':0.06417296627928082,'676-seg-1':0.0779570203995385):0.02910976162878836,('875':0.06796051640350817,'940':0.08372233385567268):0.005171427199320004):0.00553834763405836):0.024861002766971396):0.023693169564255177,('781-seg-3':0.07142534429984826,'904-seg-4':0.07166062235852447):0.025061970254025713):0.07263527760554897):0.04496186443920288,(('125-seg-3':0.06652977890771752,'904-seg-2':0.07336216301861384):0.0016391557221837813,'940-seg-1':0.0775451299913418):0.0331083818614478):0.03900823448275341,'819':0.10229702747400536):0.03547630109893559,('311':0.08856822541193661,'917-seg-2':0.061406260833830426):0.014247050722350255):0.023421402593592218,'455-seg-3':0.08528980267026331):0.019499165000590603,'664-seg-2':0.08919465723725667):0.05958896276353211):0.07952562219836519,((('125-seg-1':0.08131168139535208,'556-seg-0':0.07121713945742533):0.014126148315503542,'125-seg-2':0.0627705740903558):0.0036028401328620577,'917-seg-4':0.058446874516992355):0.016902465394062524):0.01989770620191673,'755-seg-1':0.08201504142326389):0.028607606635174986,('455-seg-1':0.056291338620248016,'875-seg-3':0.060511872645503964):0.0020798347530405874):0.009765984692755247,'917-seg-3':0.0627828741018447):0.002824311608225629,'311-seg-1':0.058655194007032424):0.0063889005172636446,'781-seg-2':0.06762101492288253):0.0023622597376215526,((((('066-seg-1':0.07920745000101238,((((('455-seg-2':0.13662962220863278,('556-seg-2':0.06553392208941769,('819-seg-1':0.08020683542743215,'819-seg-2':0.07649889134772123):0.010057145036387473):0.018766761924841245):0.09765539484718726,'755-seg-4':0.13337430398502048):0.0918676547999715,('755-seg-2':0.08042511299280665,'875-seg-1':0.0827728057584441):0.027529370344357547):0.022581363716871174,'698-seg-2':0.10482377813040056):0.02780995500013811,'940-seg-2':0.09452674962824521):0.04898366756507423):0.014956084008268332,'781-seg-1':0.06513224210731197):0.008565181060049526,'066-seg-2':0.07278441251055565):0.027950957591820216,('121-seg-2':0.06085243413549677,'755-seg-3':0.07522484431893413):0.0037789655955230306):0.014330915125684202,'121-seg-1':0.07252023612715762):0.08159595995172311):0.027662505817307934,'121-seg-3':0.027662505817307934);\""
            ],
            "application/vnd.google.colaboratory.intrinsic+json": {
              "type": "string"
            }
          },
          "metadata": {},
          "execution_count": 39
        }
      ]
    },
    {
      "cell_type": "code",
      "source": [
        "Stop here!"
      ],
      "metadata": {
        "id": "Qe1u_c5BUYQ-"
      },
      "execution_count": null,
      "outputs": []
    },
    {
      "cell_type": "markdown",
      "metadata": {
        "id": "ek_g_DgG2O9J"
      },
      "source": [
        "## Visualizations involving several trees - consensus, cloud, etc. - by ToyTree"
      ]
    },
    {
      "cell_type": "code",
      "metadata": {
        "id": "_31NAmoX2O9J"
      },
      "source": [
        "pip install git+https://github.com/eaton-lab/toytree.git"
      ],
      "execution_count": null,
      "outputs": []
    },
    {
      "cell_type": "code",
      "metadata": {
        "id": "LQs5dzSE2O9K"
      },
      "source": [
        "import toytree as toytree # a tree plotting library\n",
        "import toyplot            # a general plotting library\n",
        "import numpy as np        # numerical library"
      ],
      "execution_count": null,
      "outputs": []
    },
    {
      "cell_type": "code",
      "metadata": {
        "id": "d7-Kf3__2O9L"
      },
      "source": [
        "string = \"\"\n",
        "for pn in plain_newicks:\n",
        "  string += pn+'\\n' \n",
        "#string = \"\\\"\\\"\\\"\"+string+\"\\\"\\\"\\\"\"\n",
        "string"
      ],
      "execution_count": null,
      "outputs": []
    },
    {
      "cell_type": "code",
      "metadata": {
        "id": "_SUJD945iXrO"
      },
      "source": [
        "# you can also get the objective list directly from the workbook openned\n",
        "objectives = [\"'Output'\",\t\"'Tmelt'\",\t\"'Power'\",\t\"'Lmelting'\",\t\"'WATS'\",\t\"'ViscousD'\",\t\"'ERROR'\"]\n",
        "vars = [\"'Screw'\", \"'Grooves'\", \"'RBS'\", \"'Dext'\", \"'D1'\", \"'D3'\", \"'Lfeed'\", \"'L1'\", \"'L2'\", \"'L3'\",\t\"'Pitch'\", \"'Tfeed'\",\t\"'Tbarrel'\", \"'N'\", \"'Model'\", \"'bN'\", \"'hN1'\", \"'hN2'\", \"'NN'\", \"'Lg1'\", \"'Lg2'\", \"'B'\", \"'Type'\", \"'Lrbs'\", \"'Lrbs-L'\", \"'Nb'\"]\n",
        "#vars = [\"'Screw'\", \"'Grooves'\", \"'RBS'\", \"'Dext'\", \"'D1'\", \"'D3'\", \"'Lfeed'\", \"'L1'\", \"'L2'\", \"'L3'\",\t\"'Pitch'\", \"'Tfeed'\",\t\"'Tbarrel'\", \"'N'\", \"'Model'\", \"'bN'\", \"'hN1'\", \"'hN2'\", \"'NN'\", \"'Lg1'\", \"'Lg2'\", \"'B'\", \"'Type'\", \"'Lrbs'\", \"'Lrbs_L'\", \"'Nb'\"]\n",
        "customorder = objectives + vars"
      ],
      "execution_count": null,
      "outputs": []
    },
    {
      "cell_type": "code",
      "metadata": {
        "id": "Xhe_RvIXenXg"
      },
      "source": [
        "len(vars),len(objectives)"
      ],
      "execution_count": null,
      "outputs": []
    },
    {
      "cell_type": "code",
      "metadata": {
        "id": "bHeqhfqa2O9L"
      },
      "source": [
        "mtree = toytree.mtree(string, tree_format=0)\n",
        "len(mtree.treelist), mtree.treelist"
      ],
      "execution_count": null,
      "outputs": []
    },
    {
      "cell_type": "code",
      "metadata": {
        "id": "U6mYrO-yBVKU"
      },
      "source": [
        "for i, t in enumerate(mtree.treelist):\n",
        "  print(i,t)"
      ],
      "execution_count": null,
      "outputs": []
    },
    {
      "cell_type": "code",
      "metadata": {
        "id": "jA7iiPpy2O9K"
      },
      "source": [
        "#define a style dictionary\n",
        "mystyle = {\n",
        "    \"layout\": 'd',#'u',#'c',#'d',\n",
        "    \"edge_type\": 'p',\n",
        "    \"edge_style\": {\n",
        "        \"stroke\": toytree.colors[1],\n",
        "        \"stroke-width\": 1.5,},\n",
        "    \"tip_labels_align\": True,\n",
        "    \"tip_labels_colors\": toytree.colors[3],\n",
        "    \"tip_labels_style\": {\n",
        "        \"font-size\": \"12px\"},\n",
        "    \"node_labels\": True,\n",
        "    \"node_labels\": \"idx\",    \n",
        "    \"node_sizes\": 16,\n",
        "    \"node_colors\": toytree.colors[2],\n",
        "#    \"fixed_order\": customorder,\n",
        "}\n",
        "# available tree_styles:\n",
        "#n: normal – default style\n",
        "#s: simple – clean focus on y and node labels\n",
        "#c: coalescent – clean focus on topology and timing\n",
        "#o: umlaut – just a nice looking style\n",
        "#p: population – species/population trees, auto-parses “Ne”\n",
        "#d: dark – light colors"
      ],
      "execution_count": null,
      "outputs": []
    },
    {
      "cell_type": "code",
      "metadata": {
        "id": "a5FIYa812O9M"
      },
      "source": [
        "mtoytree = toytree.mtree(mtree.treelist[:7])\n",
        "mtree.treelist[0].draw(height=400,width=800,**mystyle)"
      ],
      "execution_count": null,
      "outputs": []
    },
    {
      "cell_type": "code",
      "metadata": {
        "id": "bZDu6K8CbVc3"
      },
      "source": [
        "print(mtree.treelist[0])"
      ],
      "execution_count": null,
      "outputs": []
    },
    {
      "cell_type": "code",
      "metadata": {
        "id": "rJS9sSyhGiCv"
      },
      "source": [
        "tree = toytree.tree(string).resolve_polytomy(dist=.1).unroot()\n",
        "tree.draw(height=400,width=800, ts=\"s\", layout=\"u\", tip_labels_align=False)#, fixed_order=customorder)"
      ],
      "execution_count": null,
      "outputs": []
    },
    {
      "cell_type": "code",
      "metadata": {
        "id": "EpYxRY4Ty7VY"
      },
      "source": [
        "ctre = mtree.get_consensus_tree()#.root(\"'Output'\")\n",
        "ctre.draw(node_labels='support', use_edge_lengths=False, node_sizes=16);"
      ],
      "execution_count": null,
      "outputs": []
    },
    {
      "cell_type": "code",
      "metadata": {
        "id": "msFvq1kXzfNu"
      },
      "source": [
        "# draw cloud tree\n",
        "canvas, axes, mark = mtree.draw_cloud_tree(\n",
        "    edge_style={\n",
        "        \"stroke-opacity\": 0.1,\n",
        "        \"stroke-width\": 3,\n",
        "    },\n",
        ")"
      ],
      "execution_count": null,
      "outputs": []
    },
    {
      "cell_type": "code",
      "metadata": {
        "id": "_7qwFbVYDwq4"
      },
      "source": [
        "#\n",
        "#\n",
        "# Getting the newick format of the consensus tree obtained\n",
        "#\n",
        "ctren = toytree.tree(ctre.newick, format=0)"
      ],
      "execution_count": null,
      "outputs": []
    },
    {
      "cell_type": "code",
      "metadata": {
        "id": "4FyXKddIHBvY"
      },
      "source": [
        "ctre.newick"
      ],
      "execution_count": null,
      "outputs": []
    },
    {
      "cell_type": "code",
      "metadata": {
        "id": "R8eZDkitHHyw"
      },
      "source": [
        "ctren.write(), ctren.draw()"
      ],
      "execution_count": null,
      "outputs": []
    },
    {
      "cell_type": "code",
      "metadata": {
        "id": "5btXgiVbD2_j"
      },
      "source": [
        "#print(ctren)"
      ],
      "execution_count": null,
      "outputs": []
    },
    {
      "cell_type": "markdown",
      "source": [
        "### Img Faces"
      ],
      "metadata": {
        "id": "wyur2TRf_oZr"
      }
    },
    {
      "cell_type": "code",
      "source": [
        "pip uninstall PyQt4"
      ],
      "metadata": {
        "id": "FFaLXGYhH5jU"
      },
      "execution_count": null,
      "outputs": []
    },
    {
      "cell_type": "code",
      "source": [
        "pip uninstall Qt4"
      ],
      "metadata": {
        "id": "j21uMt7HIE3j"
      },
      "execution_count": null,
      "outputs": []
    },
    {
      "cell_type": "code",
      "source": [
        "pip install PyQt5"
      ],
      "metadata": {
        "id": "2F0FPbQSAvnW"
      },
      "execution_count": null,
      "outputs": []
    },
    {
      "cell_type": "code",
      "source": [
        "#to see the package dependencies\n",
        "import ete3\n",
        "ete3.__file__"
      ],
      "metadata": {
        "id": "OCEwJ9MPBu25"
      },
      "execution_count": null,
      "outputs": []
    },
    {
      "cell_type": "code",
      "source": [
        "#cat /usr/local/lib/python3.8/dist-packages/ete3/__init__.py"
      ],
      "metadata": {
        "id": "FTtbC9r6B1O0"
      },
      "execution_count": null,
      "outputs": []
    },
    {
      "cell_type": "code",
      "source": [
        "import PyQt5 \n",
        "print(PyQt5.__file__) "
      ],
      "metadata": {
        "id": "PokLdiJZFQvq"
      },
      "execution_count": null,
      "outputs": []
    },
    {
      "cell_type": "code",
      "source": [
        "from ete3 import Tree\n",
        "from ete3.treeview import faces\n",
        "from ete3.treeview import TreeStyle"
      ],
      "metadata": {
        "id": "PWixLaz8Qrlf"
      },
      "execution_count": null,
      "outputs": []
    },
    {
      "cell_type": "code",
      "source": [
        "TreeStyle"
      ],
      "metadata": {
        "id": "-Fx_p4ZgQuOg"
      },
      "execution_count": null,
      "outputs": []
    },
    {
      "cell_type": "code",
      "source": [
        "# # Import Tree instance and faces module\n",
        "# #from ete3 import Tree, faces, TreeStyle\n",
        "# from ete3 import Tree\n",
        "# from ete3.treeview import faces\n",
        "# from ete3.treeview import TreeStyle\n",
        "\n",
        "# Loads an example tree\n",
        "nw = \"\"\"\n",
        "(((Dre:0.008339,Dme:0.300613)1.000000:0.596401,\n",
        "(Cfa:0.640858,Hsa:0.753230)1.000000:0.182035)1.000000:0.106234,\n",
        "((Dre:0.271621,Cfa:0.046042)1.000000:0.953250,\n",
        "(Hsa:0.061813,Mms:0.110769)1.000000:0.204419)1.000000:0.973467);\n",
        "\"\"\"\n",
        "t = Tree(nw)\n",
        "\n",
        "# You can create any random tree containing the same leaf names, and\n",
        "# layout will work equally\n",
        "#\n",
        "# t = Tree()\n",
        "# Creates a random tree with 8 leaves using a given set of names\n",
        "# t.populate(8, [\"Dme\", \"Dre\", \"Hsa\", \"Ptr\", \"Cfa\", \"Mms\"])\n",
        "\n",
        "# Set the path in which images are located\n",
        "img_path = \"/content/\"\n",
        "# Create faces based on external images\n",
        "humanFace = faces.ImgFace(img_path+\"human.jpeg\")\n",
        "mouseFace = faces.ImgFace(img_path+\"mouse.jpeg\")\n",
        "dogFace = faces.ImgFace(img_path+\"dog.jpeg\")\n",
        "chimpFace = faces.ImgFace(img_path+\"chimp.jpeg\")\n",
        "fishFace = faces.ImgFace(img_path+\"fish.jpeg\")\n",
        "flyFace = faces.ImgFace(img_path+\"fly.jpeg\")\n",
        "\n",
        "# Create a faces ready to read the name attribute of nodes\n",
        "#nameFace = faces.TextFace(open(\"text\").readline().strip(), fsize=20, fgcolor=\"#009000\")\n",
        "nameFace = faces.AttrFace(\"name\", fsize=20, fgcolor=\"#009000\")\n",
        "\n",
        "# Create a conversion between leaf names and real names\n",
        "code2name = {\n",
        "        \"Dre\":\"Drosophila melanogaster\",\n",
        "        \"Dme\":\"Danio rerio\",\n",
        "        \"Hsa\":\"Homo sapiens\",\n",
        "        \"Ptr\":\"Pan troglodytes\",\n",
        "        \"Mms\":\"Mus musculus\",\n",
        "        \"Cfa\":\"Canis familiaris\"\n",
        "        }\n",
        "\n",
        "# Creates a dictionary with the descriptions of each leaf name\n",
        "code2desc = {\n",
        "        \"Dre\":\"\"\"The zebrafish, also known as Danio rerio,\n",
        "is a tropical freshwater fish belonging to the\n",
        "minnow family (Cyprinidae).\"\"\",\n",
        "        \"Dme\":\"\"\"True flies are insects of the order Diptera,\n",
        "possessing a single pair of wings on the\n",
        "mesothorax and a pair of halteres, derived from\n",
        "the hind wings, on the metathorax\"\"\",\n",
        "        \"Hsa\":\"\"\"A human is a member of a species\n",
        "of bipedal primates in the family Hominidae.\"\"\",\n",
        "        \"Ptr\":\"\"\"Chimpanzee, sometimes colloquially\n",
        "chimp, is the common name for the\n",
        "two extant species of ape in the genus Pan.\"\"\",\n",
        "        \"Mms\":\"\"\"A mouse is a small mammal belonging to the\n",
        "order of rodents.\"\"\",\n",
        "        \"Cfa\": \"\"\"The dog (Canis lupus familiaris) is a\n",
        "domesticated subspecies of the Gray Wolf,\n",
        "a member of the Canidae family of the\n",
        "orderCarnivora.\"\"\"\n",
        "        }\n",
        "\n",
        "# Creates my own layout function. I will use all previously created\n",
        "# faces and will set different node styles depending on the type of\n",
        "# node.\n",
        "def mylayout(node):\n",
        "    # If node is a leaf, add the nodes name and a its scientific\n",
        "    # name\n",
        "    if node.is_leaf():\n",
        "        # Add an static face that handles the node name\n",
        "        faces.add_face_to_node(nameFace, node, column=0)\n",
        "        # We can also create faces on the fly\n",
        "        longNameFace = faces.TextFace(code2name[node.name])\n",
        "        faces.add_face_to_node(longNameFace, node, column=0)\n",
        "\n",
        "        # text faces support multiline. We add a text face\n",
        "        # with the whole description of each leaf.\n",
        "        descFace = faces.TextFace(code2desc[node.name], fsize=10)\n",
        "        descFace.margin_top = 10\n",
        "        descFace.margin_bottom = 10\n",
        "        descFace.border.margin = 1\n",
        "\n",
        "        # Note that this faces is added in \"aligned\" mode\n",
        "        faces.add_face_to_node(descFace, node, column=0, aligned=True)\n",
        "\n",
        "        # Sets the style of leaf nodes\n",
        "        node.img_style[\"size\"] = 12\n",
        "        node.img_style[\"shape\"] = \"circle\"\n",
        "    #If node is an internal node\n",
        "    else:\n",
        "        # Sets the style of internal nodes\n",
        "        node.img_style[\"size\"] = 6\n",
        "        node.img_style[\"shape\"] = \"circle\"\n",
        "        node.img_style[\"fgcolor\"] = \"#000000\"\n",
        "\n",
        "    # If an internal node contains more than 4 leaves, add the\n",
        "    # images of the represented species sorted in columns of 2\n",
        "    # images max.\n",
        "    if len(node)>=4:\n",
        "        col = 0\n",
        "        for i, name in enumerate(set(node.get_leaf_names())):\n",
        "            if i>0 and i%2 == 0:\n",
        "                col += 1\n",
        "            # Add the corresponding face to the node\n",
        "            if name.startswith(\"Dme\"):\n",
        "                faces.add_face_to_node(flyFace, node, column=col)\n",
        "            elif name.startswith(\"Dre\"):\n",
        "                faces.add_face_to_node(fishFace, node, column=col)\n",
        "            elif name.startswith(\"Mms\"):\n",
        "                faces.add_face_to_node(mouseFace, node, column=col)\n",
        "            elif name.startswith(\"Ptr\"):\n",
        "                faces.add_face_to_node(chimpFace, node, column=col)\n",
        "            elif name.startswith(\"Hsa\"):\n",
        "                faces.add_face_to_node(humanFace, node, column=col)\n",
        "            elif name.startswith(\"Cfa\"):\n",
        "                faces.add_face_to_node(dogFace, node, column=col)\n",
        "\n",
        "            # Modifies this node's style\n",
        "            node.img_style[\"size\"] = 16\n",
        "            node.img_style[\"shape\"] = \"sphere\"\n",
        "            node.img_style[\"fgcolor\"] = \"#AA0000\"\n",
        "\n",
        "    # If leaf is \"Hsa\" (homo sapiens), highlight it using a\n",
        "    # different background.\n",
        "    if node.is_leaf() and node.name.startswith(\"Hsa\"):\n",
        "        node.img_style[\"bgcolor\"] = \"#9db0cf\"\n",
        "\n",
        "# And, finally, Visualize the tree using my own layout function\n",
        "ts = TreeStyle()\n",
        "ts.layout_fn = mylayout\n",
        "t.render(\"img_faces.png\", w=600, tree_style = ts)"
      ],
      "metadata": {
        "id": "ZJEUY_9O_vBa"
      },
      "execution_count": null,
      "outputs": []
    },
    {
      "cell_type": "markdown",
      "metadata": {
        "id": "227lFRpcuUpT"
      },
      "source": [
        "## Next some analysis that uses raw data together with phylograms"
      ]
    },
    {
      "cell_type": "markdown",
      "metadata": {
        "id": "XpSPvYLDuyti"
      },
      "source": [
        "### Value distributions"
      ]
    },
    {
      "cell_type": "code",
      "metadata": {
        "id": "bwbz1OHt86YL"
      },
      "source": [
        "#print(wb.sheetnames)\n",
        "#sheets = wb.sheetnames\n",
        "##ws = wb[sheets[3]]\n",
        "#ws = wb[sheets[0]]\n",
        "#ws.title"
      ],
      "execution_count": null,
      "outputs": []
    },
    {
      "cell_type": "code",
      "metadata": {
        "id": "NTZ1UArW86YL"
      },
      "source": [
        "#ws.title"
      ],
      "execution_count": null,
      "outputs": []
    },
    {
      "cell_type": "code",
      "metadata": {
        "id": "pfnztFCUPiN5"
      },
      "source": [
        "m = []\n",
        "for c in range(1,ws.max_column+1):\n",
        "  v = []\n",
        "  for r in range(1,ws.max_row+1):\n",
        "    v += [ws.cell(row=r, column=c).value]\n",
        "  #m += [v[2:]]\n",
        "  m += [v[0:]]"
      ],
      "execution_count": null,
      "outputs": []
    },
    {
      "cell_type": "code",
      "metadata": {
        "id": "qfCJC04ur7t_"
      },
      "source": [
        "#m"
      ],
      "execution_count": null,
      "outputs": []
    },
    {
      "cell_type": "code",
      "metadata": {
        "id": "pYMjQ9kkMfA-"
      },
      "source": [
        "import numpy as np\n",
        "\n",
        "m_raw_values = np.array(m)\n",
        "#m_raw_values"
      ],
      "execution_count": null,
      "outputs": []
    },
    {
      "cell_type": "code",
      "metadata": {
        "id": "oRuKO3BZ34Rk"
      },
      "source": [
        "#m_raw_values = df.to_numpy()"
      ],
      "execution_count": null,
      "outputs": []
    },
    {
      "cell_type": "code",
      "metadata": {
        "id": "Z1DnqIoa7StM"
      },
      "source": [
        "#m_raw_values"
      ],
      "execution_count": null,
      "outputs": []
    },
    {
      "cell_type": "code",
      "metadata": {
        "id": "4UKQciREDm_u"
      },
      "source": [
        "distribution = dict()\n",
        "for r in m_raw_values:\n",
        "  try:\n",
        "    a = np.array((r[1:]).astype(np.float))\n",
        "    anorm = a/a.max()\n",
        "    distribution[r[0]] = anorm\n",
        "  except:\n",
        "    #pass #a array may have literals as \"values\"\n",
        "    distribution[r[0]] = np.zeros(len(r[1:]))"
      ],
      "execution_count": null,
      "outputs": []
    },
    {
      "cell_type": "code",
      "metadata": {
        "id": "Z6Tqg6g87kSO"
      },
      "source": [
        "#distribution"
      ],
      "execution_count": null,
      "outputs": []
    },
    {
      "cell_type": "code",
      "metadata": {
        "id": "L8zmIImjJRvY"
      },
      "source": [
        "msize = 0\n",
        "for k, v in distribution.items():\n",
        "  #print(k, v.size)\n",
        "  if msize < v.size:\n",
        "    msize = v.size\n",
        "msize"
      ],
      "execution_count": null,
      "outputs": []
    },
    {
      "cell_type": "code",
      "metadata": {
        "id": "5X6c9EPumpTx"
      },
      "source": [
        "# we'll use scipy.stats to get prob. density func. of normal dist\n",
        "import scipy.stats as sc\n",
        "import numpy as np\n",
        "\n",
        "tre = mtree.treelist[19]#[0]\n",
        "ntips = tre.ntips\n",
        "\n",
        "# generate a distribution between 0.0 and 1.0 for each tip in the tree\n",
        "points = np.linspace(0, 1, msize)\n",
        "\n",
        "# set up canvas for two panel plot\n",
        "canvas = toyplot.Canvas(width=300, height=800)\n",
        "\n",
        "# add tree to canvas\n",
        "ax0 = canvas.cartesian(bounds=(50, 180, 50, 700), ymin=0, ymax=ntips, padding=15)\n",
        "tre.draw(axes=ax0, tip_labels=True)#False)\n",
        "ax0.show = False\n",
        "\n",
        "# add histograms to canvas\n",
        "ax1 = canvas.cartesian(bounds=(200, 275, 50, 700), ymin=0, ymax=ntips, padding=15)\n",
        "\n",
        "# iterate from top to bottom (ntips to 0)\n",
        "#probs = 0.0 #default value -- take care\n",
        "for tip in range(ntips)[::-1]:\n",
        "\n",
        "    # select a color for hist\n",
        "    color = toytree.colors[int((tip) / 5)]\n",
        "\n",
        "    # get tip name and get hist from dict\n",
        "    tipname = tre.get_tip_labels()[tip]\n",
        "    try:\n",
        "      probs = distribution[tipname.replace(\"'\",\"\")]#.replace(\"/\",\"-\")]\n",
        "    except:\n",
        "      pass\n",
        "      #print(tip, tipname, probs)\n",
        "    # fill histogram with slightly overlapping histograms\n",
        "    ax1.fill(\n",
        "        points, probs / probs.max()*1.0, #* 1.25,\n",
        "        baseline=[tip] * len(points),\n",
        "        style={\"fill\": color, \"stroke\": \"white\", \"stroke-width\": 0.5},\n",
        "        title=tipname,\n",
        "    )\n",
        "\n",
        "    # add horizontal line at base\n",
        "    ax1.hlines(tip, opacity=0.5, color=\"grey\", style={\"stroke-width\": 0.5})\n",
        "\n",
        "# hide y axis, show x\n",
        "ax1.y.show = False\n",
        "ax1.x.label.text = \"Trait value\"\n",
        "ax1.x.ticks.show = True"
      ],
      "execution_count": null,
      "outputs": []
    },
    {
      "cell_type": "markdown",
      "metadata": {
        "id": "hOyCjkFzC3MU"
      },
      "source": [
        "### Cophenetic measures"
      ]
    },
    {
      "cell_type": "markdown",
      "metadata": {
        "id": "uOKvADktO6iC"
      },
      "source": [
        "#### Install ETE3"
      ]
    },
    {
      "cell_type": "code",
      "metadata": {
        "id": "b9ERiVIyHwGG"
      },
      "source": [
        "pip install ete3"
      ],
      "execution_count": null,
      "outputs": []
    },
    {
      "cell_type": "code",
      "metadata": {
        "id": "sgy0MbkyHwGH"
      },
      "source": [
        "from ete3 import Tree\n",
        "\n",
        "mTree = []\n",
        "#for pn in plain_newicks:\n",
        "#  mTree += [ Tree(pn) ]\n",
        "\n",
        "# using the consensus tree (in newick format) found above\n",
        "mTree = [ Tree(ctre.newick) ]"
      ],
      "execution_count": null,
      "outputs": []
    },
    {
      "cell_type": "markdown",
      "metadata": {
        "id": "mE-w-N61I_fB"
      },
      "source": [
        "#### Topology distances from a tree\n"
      ]
    },
    {
      "cell_type": "code",
      "metadata": {
        "id": "YHN-wKmQaQCl"
      },
      "source": [
        "from itertools import combinations, combinations_with_replacement\n",
        "#targetcomb = [ (t1.name.replace(\"'\",\"\"), t2.name.replace(\"'\",\"\")) for t1, t2 in combinations(mTree[0].get_leaves(),2) ]\n",
        "#targetcomb = [ (t1.name, t2.name) for t1, t2 in combinations(mTree[0].get_leaves(),2) ]\n",
        "targetcomb = [ (t1.name, t2.name) for t1, t2 in combinations_with_replacement(mTree[0].get_leaves(),2) ]"
      ],
      "execution_count": null,
      "outputs": []
    },
    {
      "cell_type": "code",
      "metadata": {
        "id": "pffr-6tqitLJ"
      },
      "source": [
        "#targetcomb"
      ],
      "execution_count": null,
      "outputs": []
    },
    {
      "cell_type": "code",
      "metadata": {
        "id": "kVDtn7Xya5LT"
      },
      "source": [
        "#labels = [ l.name.replace(\"'\",\"\") for l in mTree[0].get_leaves() ]\n",
        "labels = [ l.name for l in mTree[0].get_leaves() ]\n",
        "\n",
        "topology_dist = dict()\n",
        "#for l in labels:\n",
        "#  topology_dist[l] = [0.0]*len(labels)\n",
        "\n",
        "for t1, t2 in targetcomb:\n",
        "  if t1 == t2:\n",
        "    d = 0\n",
        "  else: \n",
        "    d = mTree[0].get_distance(target=t1, target2=t2, topology_only=True) #constrained to tree topology\n",
        "  try: \n",
        "    topology_dist[t1] += [ d ]\n",
        "  except:\n",
        "    topology_dist[t1] =  [ d ] \n",
        "  if t1 != t2:\n",
        "    try: \n",
        "      topology_dist[t2] += [ d ]\n",
        "    except:\n",
        "      topology_dist[t2] = [ d ]"
      ],
      "execution_count": null,
      "outputs": []
    },
    {
      "cell_type": "code",
      "metadata": {
        "id": "yHf_lLLSkHgk"
      },
      "source": [
        "#topology_dist"
      ],
      "execution_count": null,
      "outputs": []
    },
    {
      "cell_type": "code",
      "metadata": {
        "id": "-Tn7MGYp3zwY"
      },
      "source": [
        "labels = topology_dist.keys()\n",
        "result = topology_dist.values()\n",
        "data = list(result)\n",
        "np_topology_dist = np.array(data)"
      ],
      "execution_count": null,
      "outputs": []
    },
    {
      "cell_type": "code",
      "metadata": {
        "id": "WY8pCX9GjG-T"
      },
      "source": [
        "np_topology_dist"
      ],
      "execution_count": null,
      "outputs": []
    },
    {
      "cell_type": "code",
      "metadata": {
        "id": "4Ud0rlGv4nqz"
      },
      "source": [
        "np_topology_dist_norm = np_topology_dist/np_topology_dist.max()"
      ],
      "execution_count": null,
      "outputs": []
    },
    {
      "cell_type": "code",
      "metadata": {
        "id": "wbLjASYMsl6r"
      },
      "source": [
        "np_topology_dist_norm = np_topology_dist_norm.round(decimals=2)\n",
        "print(np_topology_dist_norm)"
      ],
      "execution_count": null,
      "outputs": []
    },
    {
      "cell_type": "code",
      "metadata": {
        "id": "-gjM9TebdqbH"
      },
      "source": [
        "#del df_topo_dist_norm2objectives"
      ],
      "execution_count": null,
      "outputs": []
    },
    {
      "cell_type": "code",
      "metadata": {
        "id": "VPBRM6a38XRv"
      },
      "source": [
        "import pandas as pd\n",
        "df_topo_dist_norm = pd.DataFrame(np_topology_dist_norm, columns=labels, index=labels)"
      ],
      "execution_count": null,
      "outputs": []
    },
    {
      "cell_type": "code",
      "metadata": {
        "id": "bX_ME-jmgbzj"
      },
      "source": [
        "df_topo_dist_norm"
      ],
      "execution_count": null,
      "outputs": []
    },
    {
      "cell_type": "code",
      "metadata": {
        "id": "46UL4r_kBHc9"
      },
      "source": [
        "df_topo_dist_norm2objectives = df_topo_dist_norm[objectives]"
      ],
      "execution_count": null,
      "outputs": []
    },
    {
      "cell_type": "code",
      "metadata": {
        "id": "uDBg9BwGuEbb"
      },
      "source": [
        "df_topo_dist_norm2objectives = df_topo_dist_norm2objectives.drop(objectives)"
      ],
      "execution_count": null,
      "outputs": []
    },
    {
      "cell_type": "code",
      "metadata": {
        "id": "aHNWVvfIwnz0"
      },
      "source": [
        "df_topo_dist_norm2objectives"
      ],
      "execution_count": null,
      "outputs": []
    },
    {
      "cell_type": "code",
      "metadata": {
        "id": "78HulgU3GTfO"
      },
      "source": [
        "df_topo_dist_norm2objectives['Average'] = df_topo_dist_norm2objectives[df_topo_dist_norm2objectives.columns].mean(axis=1) "
      ],
      "execution_count": null,
      "outputs": []
    },
    {
      "cell_type": "code",
      "metadata": {
        "id": "J-qs6wTNGyu8"
      },
      "source": [
        "#df_topo_dist_norm2objectives.loc['Average'] = df_topo_dist_norm2objectives.mean() "
      ],
      "execution_count": null,
      "outputs": []
    },
    {
      "cell_type": "code",
      "metadata": {
        "id": "rvLHYt7buc7D"
      },
      "source": [
        "df_topo_dist_norm2objectives = ((df_topo_dist_norm2objectives*100)//1)/100"
      ],
      "execution_count": null,
      "outputs": []
    },
    {
      "cell_type": "code",
      "metadata": {
        "id": "karNqX_4zKhM"
      },
      "source": [
        "df_topo_dist_norm2objectives.sort_values(by='Average', ascending=True, inplace=True)"
      ],
      "execution_count": null,
      "outputs": []
    },
    {
      "cell_type": "code",
      "metadata": {
        "id": "IK7Cmnvxtq7B"
      },
      "source": [
        "df_topo_dist_norm2objectives"
      ],
      "execution_count": null,
      "outputs": []
    },
    {
      "cell_type": "code",
      "metadata": {
        "id": "GfjlKvN88gem"
      },
      "source": [
        "#df_topo_dist_norm2objectives.to_csv(r\"/content/np_topology_dist_norm2objectives.csv\", header=None, index=None, sep=' ', mode='w')\n",
        "df_topo_dist_norm2objectives.to_csv(r\"/content/np_topology_dist_norm2objectives.csv\", header=None, index=None, sep=',', mode='w', decimal=\".\")\n",
        "#np.savetxt(r\"/content/np_topology_dist_norm2objectives.csv\", df_topo_dist_norm.values, fmt='%.2f')\n",
        "files.download(\"/content/np_topology_dist_norm2objectives.csv\")"
      ],
      "execution_count": null,
      "outputs": []
    },
    {
      "cell_type": "code",
      "metadata": {
        "id": "GDR8MHCs4eyz"
      },
      "source": [
        "files.view('/content/')"
      ],
      "execution_count": null,
      "outputs": []
    },
    {
      "cell_type": "markdown",
      "metadata": {
        "id": "6_a2HcwurQWj"
      },
      "source": [
        "#### Evolutionary-time distances from a tree \n",
        "- also called cophenetic\n",
        " - the evolutionary-time of each branch is used to construct a matrix|"
      ]
    },
    {
      "cell_type": "code",
      "metadata": {
        "id": "mFXwGnoVrtTS"
      },
      "source": [
        "evtime_m, labels = mTree[0].cophenetic_matrix()"
      ],
      "execution_count": null,
      "outputs": []
    },
    {
      "cell_type": "code",
      "metadata": {
        "id": "s2cJqMPGv_aT"
      },
      "source": [
        "evtime_dist = dict()\n",
        "for l, m in zip(labels, evtime_m):\n",
        "  evtime_dist[l] = m"
      ],
      "execution_count": null,
      "outputs": []
    },
    {
      "cell_type": "code",
      "metadata": {
        "id": "EZerXrDzwlYL"
      },
      "source": [
        "#evtime_dist"
      ],
      "execution_count": null,
      "outputs": []
    },
    {
      "cell_type": "markdown",
      "metadata": {
        "id": "EQ1p3OWKZU42"
      },
      "source": [
        "#### Cophenetic between clades"
      ]
    },
    {
      "cell_type": "markdown",
      "metadata": {
        "id": "T9GUu0WVRqy4"
      },
      "source": [
        "Cophenetic between clades"
      ]
    },
    {
      "cell_type": "code",
      "metadata": {
        "id": "SfRsbQULZygc"
      },
      "source": [
        "results"
      ],
      "execution_count": null,
      "outputs": []
    },
    {
      "cell_type": "code",
      "metadata": {
        "id": "RKQCApWYRxL_"
      },
      "source": [
        "# Essa célula do notebook é só para mostrar como é o formato dos dados no idsx.\n",
        "# Com base no formato, você mesmo pode construir o idsx a partir dos rótulos dos nós folhas da árvore.\n",
        "# Por outro lado, o código da célula acaba sendo uma forma de obter a idsx, \n",
        "# pois o idsx é o mesmo para qualquer entrada de NCD que tenha sido obtida para qualquer dados \n",
        "# que tenham os mesmos rótulos de folhas. \n",
        "\n",
        "#path = os.path.join(results,'Sheet0') # leaf ids (or names) are the same for all the resampled trees - use Sheet0 or anyother\n",
        "\n",
        "import ncd_base\n",
        "import ncd2 as ncd\n",
        "\n",
        "ncds = [ i for i in os.listdir(path) if '-ncd.csv' in i]\n",
        "ncdfile = ncds[-1] #the newest one ncd distance matrix in ws.title results\n",
        "infile = open(os.path.join(path,ncdfile))\n",
        "generator = ncd_base.csv_read(infile)\n",
        "ncd_results = list(generator)\n",
        "m, ids = ncd.to_matrix(ncd_results=ncd_results, is_self=True)\n",
        "idsx, idsy = ids #len(idsx), idsx "
      ],
      "execution_count": null,
      "outputs": []
    },
    {
      "cell_type": "code",
      "metadata": {
        "id": "YsyunK28aD_r"
      },
      "source": [
        "#idsx, idsy, ids"
      ],
      "execution_count": null,
      "outputs": []
    },
    {
      "cell_type": "code",
      "metadata": {
        "id": "qBjbkWVZSWZt"
      },
      "source": [
        "import clustering\n",
        "from tree import to_graph\n",
        "import tree_simplification as nj"
      ],
      "execution_count": null,
      "outputs": []
    },
    {
      "cell_type": "code",
      "metadata": {
        "id": "axmF91K_eBo_"
      },
      "source": [
        "tree = nj.neighbor_joining(m, ids=idsx) # ids=None)"
      ],
      "execution_count": null,
      "outputs": []
    },
    {
      "cell_type": "code",
      "metadata": {
        "id": "zlHj0HRRfJ9W"
      },
      "source": [
        "print(tree)"
      ],
      "execution_count": null,
      "outputs": []
    },
    {
      "cell_type": "code",
      "metadata": {
        "id": "S_xdyV64mbOa"
      },
      "source": [
        "# in clustering.py:\n",
        "# ...\n",
        "#community_detection_names = [\n",
        "#    'fast', 'newman-modularity',\n",
        "#    'betweenness',\n",
        "#    'walktrap',\n",
        "#    'tree-modularity',\n",
        "#    'correlation-modularity',\n",
        "#    'optimal'\n",
        "#    ]\n",
        "#\n",
        "#def tree_clustering(g, leaf_ids, community_detection_name='fast',\n",
        "#    is_normalize_weights=True, num_clusters=None):\n",
        "# ... "
      ],
      "execution_count": null,
      "outputs": []
    },
    {
      "cell_type": "code",
      "metadata": {
        "id": "Lfgw-eb8SWg6"
      },
      "source": [
        "g = to_graph(tree)\n",
        "#membership, clustering, dendrogram = clustering.tree_clustering(g, idsx)\n",
        "membership, clustering, dendrogram = clustering.tree_clustering(g, idsx, community_detection_name='fast', is_normalize_weights=True, num_clusters=None)\n",
        "#membership, clustering, dendrogram = clustering.tree_clustering(g, idsx, community_detection_name='newman-modularity', is_normalize_weights=True, num_clusters=None)"
      ],
      "execution_count": null,
      "outputs": []
    },
    {
      "cell_type": "code",
      "metadata": {
        "id": "6RJEXjlkhYBA"
      },
      "source": [
        "membership"
      ],
      "execution_count": null,
      "outputs": []
    },
    {
      "cell_type": "code",
      "metadata": {
        "id": "GCt7S0I0iEMG"
      },
      "source": [
        "print(clustering, dendrogram)"
      ],
      "execution_count": null,
      "outputs": []
    },
    {
      "cell_type": "markdown",
      "metadata": {
        "id": "TWxa_4a8sxIk"
      },
      "source": [
        "##### Other membership structures"
      ]
    },
    {
      "cell_type": "code",
      "metadata": {
        "id": "uBCr8PnkA7ai"
      },
      "source": [
        "##for tf in os.listdir(results):\n",
        "##  print(tf+'/001-membership.csv')\n",
        "#resultssheet0 = os.path.join(results,os.listdir(results)[0])\n",
        "#resultssheet0"
      ],
      "execution_count": null,
      "outputs": []
    },
    {
      "cell_type": "code",
      "metadata": {
        "id": "_8OBye5lZXTG"
      },
      "source": [
        "#\n",
        "# !!!!!!!!!!!!!!!!!!!!!!!!!!!!!\n",
        "#\n",
        "# It should be changed by the membership/communities of the found consensus tree\n",
        "#\n",
        "# !!!!!!!!!!!!!!!!!!!!!!!!!!!!!\n",
        "#p2f = os.path.join(resultssheet0,\"001-membership.csv\")\n",
        "#\n",
        "#membership = dict()\n",
        "#with open(os.path.join(p2f), \"r\") as f: \n",
        "#  for l in f:\n",
        "#    l = l.replace(\"\\n\",\"\").split(\",\")\n",
        "#    membership[l[0]] = l[1] "
      ],
      "execution_count": null,
      "outputs": []
    },
    {
      "cell_type": "code",
      "metadata": {
        "id": "wjIHO1JMhPWa"
      },
      "source": [
        "reverse_membership = dict()\n",
        "for l, clade in membership.items():\n",
        "  try:\n",
        "    reverse_membership[clade] += [l] \n",
        "  except:\n",
        "    reverse_membership[clade]  = [l] "
      ],
      "execution_count": null,
      "outputs": []
    },
    {
      "cell_type": "code",
      "metadata": {
        "id": "e59O5FLocMOX"
      },
      "source": [
        "membership, reverse_membership"
      ],
      "execution_count": null,
      "outputs": []
    },
    {
      "cell_type": "code",
      "metadata": {
        "id": "7doKGz98jatU"
      },
      "source": [
        "from ete3 import Tree"
      ],
      "execution_count": null,
      "outputs": []
    },
    {
      "cell_type": "code",
      "metadata": {
        "id": "I2OSTo80WUX_"
      },
      "source": [
        "#li = [ (l, i) for i, l in enumerate(mTree[0].get_leaves())]\n",
        "li = [ (l, i) for i, l in enumerate(Tree(ctre.newick).get_leaves())]\n",
        "rev_labels = dict()\n",
        "for l, i in li:\n",
        "  rev_labels[l.name.replace(\"'\",\"\")] = i"
      ],
      "execution_count": null,
      "outputs": []
    },
    {
      "cell_type": "code",
      "metadata": {
        "id": "PWlgoojEj_KG"
      },
      "source": [
        "rev_labels"
      ],
      "execution_count": null,
      "outputs": []
    },
    {
      "cell_type": "markdown",
      "metadata": {
        "id": "DIZ79Fcgs45-"
      },
      "source": [
        "##### The Cophenetic matrix itself"
      ]
    },
    {
      "cell_type": "code",
      "metadata": {
        "id": "IKSfchaQtApQ"
      },
      "source": [
        "# Choose between a topoloy or evolutionary-time dictionary and creates the corresponding matrix \n",
        "def dict2matrix(dist=evtime_dist):#dist=topology_dist\n",
        "  ml = []\n",
        "  for l, r in dist.items():\n",
        "    ml += [r]\n",
        "  return np.array(ml)\n",
        "#m = dict2matrix(evtime_dist)"
      ],
      "execution_count": null,
      "outputs": []
    },
    {
      "cell_type": "code",
      "metadata": {
        "id": "INLsFR1Seojv"
      },
      "source": [
        "def clades2cophenetic(m=m, reverse_membership=reverse_membership, rev_labels=rev_labels):\n",
        "  from itertools import combinations, product\n",
        "  cophenetic_clades = dict()\n",
        "  for i1, i2 in combinations(reverse_membership.items(), 2):\n",
        "    c1, c2 = i1[1], i2[1] #their values, their lists\n",
        "    c1_c2_pairs = list(product(c1,c2))\n",
        "    maxpair = 0.0\n",
        "    for l1, l2 in c1_c2_pairs:\n",
        "      c1_c2_dist = m[rev_labels[l1]][rev_labels[l2]] \n",
        "      if c1_c2_dist > maxpair:\n",
        "        maxpair = c1_c2_dist\n",
        "      cophenetic_clades[str(i1[0])+\",\"+str(i2[0])] = (maxpair, l1, l2)\n",
        "      cophenetic_clades[str(i2[0])+\",\"+str(i1[0])] = (maxpair, l2, l1)\n",
        "  return cophenetic_clades\n",
        "#cophenetic_clades = clades2cophenetic(m=m, reverse_membership=reverse_membership, rev_labels=rev_labels)"
      ],
      "execution_count": null,
      "outputs": []
    },
    {
      "cell_type": "markdown",
      "metadata": {
        "id": "VzMkQqgKqf3J"
      },
      "source": [
        "##### Usage of obtained clade-based cophenetic information"
      ]
    },
    {
      "cell_type": "code",
      "metadata": {
        "id": "oslCsj4646NP"
      },
      "source": [
        "mtop = dict2matrix(topology_dist)\n",
        "mevo = dict2matrix(evtime_dist)\n",
        "cophenetic_clades_top = clades2cophenetic(m=mtop, reverse_membership=reverse_membership, rev_labels=rev_labels)\n",
        "cophenetic_clades_evo = clades2cophenetic(m=mevo, reverse_membership=reverse_membership, rev_labels=rev_labels)"
      ],
      "execution_count": null,
      "outputs": []
    },
    {
      "cell_type": "code",
      "metadata": {
        "id": "YwoCsz1wuwlM"
      },
      "source": [
        "cophenetic_clades_evo"
      ],
      "execution_count": null,
      "outputs": []
    },
    {
      "cell_type": "code",
      "metadata": {
        "id": "AP7OcxQlbFZF"
      },
      "source": [
        "cophenetic_clades_evo['0,2'], cophenetic_clades_evo['2,0']"
      ],
      "execution_count": null,
      "outputs": []
    },
    {
      "cell_type": "code",
      "metadata": {
        "id": "8Xutx9HdiGTM"
      },
      "source": [
        "cophenetic_clades_evo"
      ],
      "execution_count": null,
      "outputs": []
    },
    {
      "cell_type": "code",
      "metadata": {
        "id": "hRJ5c68Nxybd"
      },
      "source": [
        "cophenetic_clades_top"
      ],
      "execution_count": null,
      "outputs": []
    }
  ]
}